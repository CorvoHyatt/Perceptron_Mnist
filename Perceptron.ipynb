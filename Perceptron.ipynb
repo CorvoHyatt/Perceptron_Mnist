{
 "cells": [
  {
   "cell_type": "code",
   "execution_count": 3,
   "metadata": {},
   "outputs": [],
   "source": [
    "import numpy as np\n"
   ]
  },
  {
   "cell_type": "code",
   "execution_count": 4,
   "metadata": {},
   "outputs": [],
   "source": [
    "from typing import List\n",
    "class Perceptron:\n",
    "    def __init__(self,eta:float,n_iter:int, random_state:int, init_weight:bool,shuffle:bool, f_activate:str):\n",
    "        self.eta = eta\n",
    "        self.n_iter = n_iter\n",
    "        self.random_state = random_state\n",
    "        self.init_weight = init_weight\n",
    "        self.shuffle = shuffle\n",
    "        self.f_activate = f_activate\n",
    "        self.errors = []\n",
    "        self.weights = None\n",
    "    \n",
    "    def _initialize_weights(self, num_features):\n",
    "        if self.init_weight:\n",
    "            if self.random_state is not None:\n",
    "                np.random.seed(self.random_state)\n",
    "            self.weights = np.random.normal(loc=0.0, scale=0.01, size=num_features + 1)\n",
    "        else:\n",
    "            self.weights = np.zeros(num_features + 1)\n",
    "\n",
    "    def _activate(self, z):\n",
    "        if self.f_activate == 'step':\n",
    "            return np.where(z >= 0, 1, 0)\n",
    "        elif self.f_activate == 'sign':\n",
    "            return np.sign(z)\n",
    "\n",
    "    def net_input(self, X):\n",
    "        return np.dot(X, self.weights[1:]) + self.weights[0]\n",
    "\n",
    "    def predict(self, X):\n",
    "        z = self.net_input(X)\n",
    "        return self._activate(z)       \n",
    "    \n",
    "    def fit(self, X, y):\n",
    "    \n",
    "        if self.weights is None:\n",
    "            num_features = X.shape[1]\n",
    "            self._initialize_weights(num_features)\n",
    "            \n",
    "        if self.n_iter <= 0:  # Entrenar hasta que todos los ejemplos hayan sido aprendidos\n",
    "            epoch = 0\n",
    "            while True:\n",
    "                if self.shuffle:\n",
    "                    indices = np.random.permutation(len(y))\n",
    "                    X, y = X[indices], y[indices]\n",
    "                errors = 0\n",
    "                for xi, t in zip(X, y):\n",
    "                    update = self.eta * (t - self.predict(xi))\n",
    "                    self.weights[1:] += update * xi\n",
    "                    self.weights[0] += update\n",
    "                    errors += int(update != 0)\n",
    "                self.errors.append(errors)\n",
    "                epoch += 1\n",
    "                if errors == 0:\n",
    "                    break\n",
    "        else:  # Entrenar durante un número fijo de iteraciones\n",
    "            for _ in range(self.n_iter):\n",
    "                if self.shuffle:\n",
    "                    indices = np.random.permutation(len(y))\n",
    "                    X, y = X[indices], y[indices]\n",
    "                errors = 0\n",
    "                for xi, t in zip(X, y):\n",
    "                    update = self.eta * (t - self.predict(xi))\n",
    "                    self.weights[1:] += update * xi\n",
    "                    self.weights[0] += update\n",
    "                    errors += int(update != 0)\n",
    "                self.errors.append(errors)\n",
    "\n",
    "    \n",
    "        \n",
    "    "
   ]
  },
  {
   "cell_type": "code",
   "execution_count": 5,
   "metadata": {},
   "outputs": [],
   "source": [
    "import os\n",
    "import pandas as pd"
   ]
  },
  {
   "cell_type": "code",
   "execution_count": 6,
   "metadata": {},
   "outputs": [],
   "source": [
    "df_train = pd.read_csv('mini_mnist_train.csv', header=None, encoding = 'utf-8')"
   ]
  },
  {
   "cell_type": "code",
   "execution_count": 7,
   "metadata": {},
   "outputs": [],
   "source": [
    "import matplotlib.pyplot as plt\n",
    "import numpy as np"
   ]
  },
  {
   "cell_type": "code",
   "execution_count": 8,
   "metadata": {},
   "outputs": [
    {
     "name": "stdout",
     "output_type": "stream",
     "text": [
      "[9 8 9 9 8 9 8 9 9 8 9 9 8 9 9 8 9 8 8]\n",
      "[0 1 0 0 1 0 1 0 0 1 0 0 1 0 0 1 0 1 1]\n",
      "(19, 784)\n"
     ]
    }
   ],
   "source": [
    "data = df_train.iloc[:,:].values\n",
    "filtered = (data[:, 0] == 8) | (data[:, 0] == 9)\n",
    "data = data[filtered]\n",
    "y = data[:,0]\n",
    "print(y)\n",
    "y = np.where(y == 8, 1, 0)\n",
    "print(y)\n",
    "X = data[:,1:]\n",
    "print(X.shape)"
   ]
  },
  {
   "cell_type": "code",
   "execution_count": 11,
   "metadata": {},
   "outputs": [],
   "source": [
    "ppn =Perceptron(eta=0.5, n_iter=0, random_state=1, init_weight=True, shuffle=False, f_activate='step')"
   ]
  },
  {
   "cell_type": "code",
   "execution_count": 13,
   "metadata": {},
   "outputs": [],
   "source": [
    "ppn.fit(X,y)"
   ]
  },
  {
   "cell_type": "code",
   "execution_count": 14,
   "metadata": {},
   "outputs": [
    {
     "data": {
      "image/png": "[encoded data removed]",
      "text/plain": [
       "<Figure size 640x480 with 1 Axes>"
      ]
     },
     "metadata": {},
     "output_type": "display_data"
    }
   ],
   "source": [
    "plt.plot(range(1,len(ppn.errors) + 1), ppn.errors, marker='o', color='black')\n",
    "plt.xlabel('Epoch')\n",
    "plt.ylabel('Number of updates')\n",
    "plt.show()"
   ]
  },
  {
   "cell_type": "code",
   "execution_count": 223,
   "metadata": {},
   "outputs": [],
   "source": [
    "y = df_train.iloc[0:100,0].values\n",
    "y = np.where(y == 9, 1, -1)"
   ]
  },
  {
   "cell_type": "code",
   "execution_count": 224,
   "metadata": {},
   "outputs": [],
   "source": [
    "ppn2 =Perceptron(eta=0.5, n_iter=1000, random_state=1, init_weight=False, shuffle=False, f_activate='step')"
   ]
  },
  {
   "cell_type": "code",
   "execution_count": 229,
   "metadata": {},
   "outputs": [],
   "source": [
    "ppn2.fit(X,y)"
   ]
  },
  {
   "cell_type": "code",
   "execution_count": 234,
   "metadata": {},
   "outputs": [
    {
     "data": {
      "image/png": "[encoded data removed]",
      "text/plain": [
       "<Figure size 640x480 with 1 Axes>"
      ]
     },
     "metadata": {},
     "output_type": "display_data"
    }
   ],
   "source": [
    "plt.plot(range(1,len(ppn.errors) + 1), ppn.errors, marker='o', label='Error', color='black',)\n",
    "plt.xlabel('Epoch')\n",
    "plt.ylabel('Number of updates')\n",
    "plt.show()"
   ]
  }
 ],
 "metadata": {
  "kernelspec": {
   "display_name": "Python 3",
   "language": "python",
   "name": "python3"
  },
  "language_info": {
   "codemirror_mode": {
    "name": "ipython",
    "version": 3
   },
   "file_extension": ".py",
   "mimetype": "text/x-python",
   "name": "python",
   "nbconvert_exporter": "python",
   "pygments_lexer": "ipython3",
   "version": "3.11.5"
  }
 },
 "nbformat": 4,
 "nbformat_minor": 2
}
